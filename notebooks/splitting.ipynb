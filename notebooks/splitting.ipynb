{
 "cells": [
  {
   "cell_type": "code",
<<<<<<< HEAD
   "execution_count": 17,
=======
   "execution_count": 1,
>>>>>>> c60450c9eba0ebc911c95ce912cdae6d07162ce5
   "metadata": {},
   "outputs": [],
   "source": [
    "import sys\n",
    "import os\n",
    "sys.path.append(os.path.abspath('../src'))\n",
    "sys.path.append(os.path.abspath('../Dataset'))\n",
    "sys.path.append(os.path.abspath('..'))"
   ]
  },
  {
   "cell_type": "code",
<<<<<<< HEAD
   "execution_count": 18,
=======
   "execution_count": 2,
>>>>>>> c60450c9eba0ebc911c95ce912cdae6d07162ce5
   "metadata": {},
   "outputs": [],
   "source": [
    "import pandas as pd\n",
    "from sklearn.model_selection import train_test_split\n"
   ]
  },
  {
   "cell_type": "code",
<<<<<<< HEAD
   "execution_count": 19,
=======
   "execution_count": 3,
>>>>>>> c60450c9eba0ebc911c95ce912cdae6d07162ce5
   "metadata": {},
   "outputs": [
    {
     "name": "stderr",
     "output_type": "stream",
     "text": [
<<<<<<< HEAD
      "/tmp/ipykernel_11262/3795626346.py:1: DtypeWarning: Columns (8,33,36) have mixed types. Specify dtype option on import or set low_memory=False.\n",
=======
      "/tmp/ipykernel_16223/2032360171.py:1: DtypeWarning: Columns (8,33,36) have mixed types. Specify dtype option on import or set low_memory=False.\n",
>>>>>>> c60450c9eba0ebc911c95ce912cdae6d07162ce5
      "  df = pd.read_csv('../Dataset/raw/alquiler_AMBA_dev.csv')\n"
     ]
    }
   ],
   "source": [
    "df = pd.read_csv('../Dataset/raw/alquiler_AMBA_dev.csv')\n",
    "X = df.drop(columns=['precio_pesos_constantes']) \n",
    "y = df['precio_pesos_constantes']  \n",
    "y_bins = pd.qcut(y, q=5, labels=False)              \n",
    "X_train, X_test, y_train, y_test = train_test_split(\n",
    "    X, y, test_size=0.15, random_state=42, stratify=y_bins\n",
    ")\n",
    "train_data = pd.concat([X_train, y_train], axis=1)\n",
    "test_data = pd.concat([X_test, y_test], axis=1)\n",
    "\n",
    "train_data.to_csv('../Dataset/raw/dev.csv', index=False)\n",
<<<<<<< HEAD
    "test_data.to_csv('../Dataset/raw/test.csv', index=False)\n"
=======
    "test_data.to_csv('../Dataset/raw/test.csv', index=False)"
>>>>>>> c60450c9eba0ebc911c95ce912cdae6d07162ce5
   ]
  }
 ],
 "metadata": {
  "kernelspec": {
   "display_name": "Python 3",
   "language": "python",
   "name": "python3"
  },
  "language_info": {
   "codemirror_mode": {
    "name": "ipython",
    "version": 3
   },
   "file_extension": ".py",
   "mimetype": "text/x-python",
   "name": "python",
   "nbconvert_exporter": "python",
   "pygments_lexer": "ipython3",
   "version": "3.12.3"
  }
 },
 "nbformat": 4,
 "nbformat_minor": 2
}
