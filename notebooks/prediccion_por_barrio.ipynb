{
 "cells": [
  {
   "cell_type": "code",
   "execution_count": 10,
   "metadata": {},
   "outputs": [],
   "source": [
    "import sys\n",
    "import os\n",
    "sys.path.append(os.path.abspath('../src'))\n",
    "sys.path.append(os.path.abspath('../Dataset'))\n",
    "sys.path.append(os.path.abspath('..'))\n",
    "\n",
    "import importlib\n",
    "import pandas as pd\n",
    "import numpy as np\n",
    "import matplotlib.pyplot as plt\n",
    "\n",
    "from sklearn.model_selection import train_test_split\n",
    "\n",
    "from func_preprocesamiento import preprocesar, acotar_caracteristicas"
   ]
  },
  {
   "cell_type": "code",
   "execution_count": 32,
   "metadata": {},
   "outputs": [
    {
     "name": "stderr",
     "output_type": "stream",
     "text": [
      "/tmp/ipykernel_9772/2153617635.py:1: DtypeWarning: Columns (8,33,36) have mixed types. Specify dtype option on import or set low_memory=False.\n",
      "  alquileres = pd.read_csv('../Dataset/raw/alquiler_AMBA_dev.csv')\n"
     ]
    },
    {
     "name": "stdout",
     "output_type": "stream",
     "text": [
      "['Caseros' 'Capital Federal' 'Vicente López' 'Pilar' 'Moreno'\n",
      " 'Tres de febrero' 'San Isidro' 'San Miguel' 'Lomas de Zamora'\n",
      " 'La Matanza' 'Quilmes' 'Morón' 'General San Martín' 'San Fernando'\n",
      " 'Lanús' 'Tigre' 'Esteban Echeverría' 'Avellaneda' 'Castelar'\n",
      " 'Malvinas Argentinas' 'José C. Paz' 'Berazategui' 'Ezeiza' 'Escobar'\n",
      " 'Ituzaingó' 'Hurlingham' 'Almirante Brown' 'Florencio Varela' 'Merlo'\n",
      " 'La Plata' 'Barracas' 'Presidente Perón' 'San Cristóbal' 'Versailles'\n",
      " 'Villa General Mitre' 'Beccar' 'Saavedra' 'Velez Sarsfield' 'Las Cañitas']\n"
     ]
    }
   ],
   "source": [
    "alquileres = pd.read_csv('../Dataset/raw/alquiler_AMBA_dev.csv')\n",
    "print(alquileres['ITE_ADD_CITY_NAME'].unique())\n",
    "for ciudad in alquileres['ITE_ADD_CITY_NAME'].unique():\n",
    "    ciudad_especifico = alquileres[(alquileres['ITE_ADD_CITY_NAME'] == ciudad)]\n",
    "    output_dir = f'../Dataset/Barrios/{ciudad}'\n",
    "    os.makedirs(output_dir)\n",
    "    ciudad_especifico.to_csv(f'{output_dir}/{ciudad}_dev.csv', index=False)"
   ]
  },
  {
   "cell_type": "code",
   "execution_count": null,
   "metadata": {},
   "outputs": [
    {
     "name": "stderr",
     "output_type": "stream",
     "text": [
      "/tmp/ipykernel_9772/161543562.py:25: SettingWithCopyWarning: \n",
      "A value is trying to be set on a copy of a slice from a DataFrame.\n",
      "Try using .loc[row_indexer,col_indexer] = value instead\n",
      "\n",
      "See the caveats in the documentation: https://pandas.pydata.org/pandas-docs/stable/user_guide/indexing.html#returning-a-view-versus-a-copy\n",
      "  capi['COMUNA'] = capi['ITE_ADD_NEIGHBORHOOD_NAME'].apply(asignar_comuna)\n"
     ]
    },
    {
     "name": "stdout",
     "output_type": "stream",
     "text": [
      "COMUNA 1\n",
      "COMUNA 10\n",
      "COMUNA 11\n",
      "COMUNA 12\n",
      "COMUNA 13\n",
      "COMUNA 14\n",
      "COMUNA 15\n",
      "COMUNA 2\n",
      "COMUNA 3\n",
      "COMUNA 4\n",
      "COMUNA 5\n",
      "COMUNA 6\n",
      "COMUNA 7\n",
      "COMUNA 8\n",
      "COMUNA 9\n",
      "Desconocido\n"
     ]
    }
   ],
   "source": [
    "capi = alquileres[(alquileres['ITE_ADD_CITY_NAME']=='Capital Federal')]\n",
    "comunas = {\n",
    "    'COMUNA 1': [\"Retiro\", \"San Nicolás\", \"Puerto Madero\", \"San Telmo\", \"Montserrat\" , \"Constitución\"],\n",
    "    'COMUNA 2':[\"Recoleta\"],\n",
    "    'COMUNA 3':[\"Balvanera\" , \"San Cristóbal\"],\n",
    "    'COMUNA 4':[\"La Boca\", \"Barracas\", \"Parque Patricios\" , \"Nueva Pompeya\"],\n",
    "    'COMUNA 5':[\"Almagro\" , \"Boedo\"],\n",
    "    'COMUNA 6':[\"Caballito\"],\n",
    "    'COMUNA 7':[\"Flores\" , \"Parque Chacabuco\"],\n",
    "    'COMUNA 8':[\"Villa Soldati\", \"Villa Riachuelo\", \"Villa Lugano\"],\n",
    "    'COMUNA 9':[\"Liniers\", \"Mataderos\" , \"Parque Avellaneda\"],\n",
    "    'COMUNA 10':[\"Villa Real\", \"Monte Castro\", \"Versalles\", \"Floresta\", \"Vélez Sarfield\" , \"Villa Luro\"],\n",
    "    'COMUNA 11':[\"Villa General Mitre\", \"Villa Devoto\", \"Villa del Parque\" , \"Villa Santa Rita\"],\n",
    "    'COMUNA 12':[ \"Coghlan\", \"Saavedra\", \"Villa Urquiza\" ,\"Villa Pueyrredón\"],\n",
    "    'COMUNA 13':[ \"Núñez\", \"Belgrano\" , \"Colegiales\"],\n",
    "    'COMUNA 14':[ \"Palermo\"],\n",
    "    'COMUNA 15':[ \"Chacarita\", \"Villa Crespo\", \"La Paternal\", \"Villa Ortúzar\", \"Agronomía\" , \"Parque Chas\"]\n",
    "}\n",
    "def asignar_comuna(barrio):\n",
    "    for comuna, barrios in comunas.items():\n",
    "        if barrio in barrios:\n",
    "            return comuna\n",
    "    return 'Desconocido'  \n",
    "\n",
    "capi['COMUNA'] = capi['ITE_ADD_NEIGHBORHOOD_NAME'].apply(asignar_comuna)\n",
    "comunas_grupo = capi.groupby('COMUNA')\n",
    "for comuna, grupo in comunas_grupo:\n",
    "    grupo.to_csv(f'../Dataset/Barrios/Capital Federal/{comuna}.csv')\n"
   ]
  },
  {
   "cell_type": "code",
   "execution_count": null,
   "metadata": {},
   "outputs": [],
   "source": [
    "#Preprocesamiento\n",
    "\n"
   ]
  }
 ],
 "metadata": {
  "kernelspec": {
   "display_name": "Python 3",
   "language": "python",
   "name": "python3"
  },
  "language_info": {
   "codemirror_mode": {
    "name": "ipython",
    "version": 3
   },
   "file_extension": ".py",
   "mimetype": "text/x-python",
   "name": "python",
   "nbconvert_exporter": "python",
   "pygments_lexer": "ipython3",
   "version": "3.10.12"
  }
 },
 "nbformat": 4,
 "nbformat_minor": 2
}
