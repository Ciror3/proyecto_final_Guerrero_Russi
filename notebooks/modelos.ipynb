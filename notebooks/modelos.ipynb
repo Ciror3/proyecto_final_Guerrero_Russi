{
 "cells": [
  {
   "cell_type": "code",
   "execution_count": null,
   "metadata": {},
   "outputs": [],
   "source": [
    "import sys\n",
    "import os\n",
    "sys.path.append(os.path.abspath('../src'))\n",
    "sys.path.append(os.path.abspath('../Dataset'))\n",
    "sys.path.append(os.path.abspath('..'))\n",
    "\n",
    "import importlib\n",
    "import pandas as pd\n",
    "import numpy as np\n",
    "import matplotlib.pyplot as plt\n",
    "from sklearn.linear_model import LinearRegression\n",
    "from sklearn.metrics import mean_squared_error, r2_score\n",
    "import xgboost\n",
    "importlib.reload(xgboost)\n",
    "from xgboost import xg,parameter_searching"
   ]
  },
  {
   "cell_type": "code",
   "execution_count": null,
   "metadata": {},
   "outputs": [],
   "source": [
    "df_train = pd.read_csv('../Dataset/Procesado/train_procesado_numerico.csv')\n",
    "df_validation = pd.read_csv('../Dataset/Procesado/val_procesado_numerico.csv')\n",
    "X_train = df_train.drop(columns=['precio_pesos_constantes'])\n",
    "y_train = df_train['precio_pesos_constantes']\n",
    "model = LinearRegression()\n",
    "model.fit(X_train,y_train)\n",
    "\n",
    "# Predicciones\n",
    "y_pred = model.predict(X)\n",
    "\n",
    "# Métricas\n",
    "print(\"R2:\", r2_score(y, y_pred))\n",
    "print(\"RMSE:\", mean_squared_error(y, y_pred, squared=False))\n"
   ]
  }
 ],
 "metadata": {
  "kernelspec": {
   "display_name": "Python 3",
   "language": "python",
   "name": "python3"
  },
  "language_info": {
   "name": "python",
   "version": "3.10.12"
  }
 },
 "nbformat": 4,
 "nbformat_minor": 2
}
