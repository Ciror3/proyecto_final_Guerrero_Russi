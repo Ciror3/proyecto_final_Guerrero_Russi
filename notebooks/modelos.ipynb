{
 "cells": [
  {
   "cell_type": "code",
   "execution_count": 1,
   "metadata": {},
   "outputs": [],
   "source": [
    "import sys\n",
    "import os\n",
    "sys.path.append(os.path.abspath('../src'))\n",
    "sys.path.append(os.path.abspath('../Dataset'))\n",
    "sys.path.append(os.path.abspath('..'))\n",
    "\n",
    "import importlib\n",
    "import pandas as pd\n",
    "import numpy as np\n",
    "import matplotlib.pyplot as plt\n",
    "from sklearn.linear_model import LinearRegression\n",
    "from sklearn.metrics import mean_squared_error, r2_score\n",
    "import xgboost_\n",
    "importlib.reload(xgboost_)\n",
    "from xgboost_ import xg,parameter_searching"
   ]
  },
  {
   "cell_type": "code",
   "execution_count": 2,
   "metadata": {},
   "outputs": [],
   "source": [
    "# pruebas_train = pd.read_csv('../Dataset/Procesado/pruebas.csv')\n",
    "# pruebas_val = pd.read_csv('../Dataset/Procesado/pruebas_val.csv')\n",
    "\n",
    "# X_train_prueba = pruebas_train.drop(columns=['precio_pesos_constantes'])\n",
    "# y_train_prueba = pruebas_train['precio_pesos_constantes']\n",
    "\n",
    "# X_val_prueba = pruebas_val.drop(columns=['precio_pesos_constantes'])\n",
    "# y_val_prueba =pruebas_val['precio_pesos_constantes']\n"
   ]
  },
  {
   "cell_type": "code",
   "execution_count": 3,
   "metadata": {},
   "outputs": [],
   "source": [
    "df_train = pd.read_csv('../Dataset/Procesado/train_procesado.csv')\n",
    "df_validation = pd.read_csv('../Dataset/Procesado/val_procesado.csv')\n",
    "\n",
    "X_train = df_train.drop(columns=['precio_pesos_constantes'])\n",
    "y_train = df_train['precio_pesos_constantes']\n",
    "\n",
    "X_val = df_validation.drop(columns=['precio_pesos_constantes'])\n",
    "y_val =df_validation['precio_pesos_constantes']"
   ]
  },
  {
   "cell_type": "code",
   "execution_count": 4,
   "metadata": {},
   "outputs": [
    {
     "name": "stdout",
     "output_type": "stream",
     "text": [
      "R2 Score: 0.008276456775014873\n",
      "RMSE: 636480.2197557716\n"
     ]
    }
   ],
   "source": [
    "\n",
    "model = LinearRegression()\n",
    "model.fit(X_train,y_train)\n",
    "\n",
    "y_pred = model.predict(X_val)\n",
    "\n",
    "print(\"R2 Score:\", r2_score(y_val, y_pred))\n",
    "print(\"RMSE:\", mean_squared_error(y_val, y_pred, squared=False))\n",
    "\n",
    "# # Métricas\n",
    "# print(\"R2 Score:\", r2_score(y_X_val_procesado = pruebas_val.drop(columns=['precio_pesos_constantes'])\n",
    "# y_val_procesado =pruebas_val['precio_pesos_constantes']val, y_pred))\n",
    "# print(\"RMSE:\", mean_squared_error(y_val, y_pred, squared=False))\n"
   ]
  },
  {
   "cell_type": "code",
   "execution_count": 7,
   "metadata": {},
   "outputs": [
    {
     "name": "stdout",
     "output_type": "stream",
     "text": [
      "Mean Squared Error: 71577975777.11601\n",
      "R2 score: 0.8564208592661178\n"
     ]
    }
   ],
   "source": [
    "# modelos = barrido_parametrico(X_train, X_val,y_train, y_val)\n",
    "# X_train = X_train.drop(columns=['ITE_ADD_STATE_NAME_encoded', 'ITE_ADD_NEIGHBORHOOD_NAME_encoded'])\n",
    "# X_val = X_val.drop(columns=['ITE_ADD_STATE_NAME_encoded', 'ITE_ADD_NEIGHBORHOOD_NAME_encoded'])\n",
    "# print(X_train.columns())\n",
    "# muestras_filtradas = df_train[df_train['STotalM2'] > 400]\n",
    "\n",
    "train_procesado = df_train[(df_train['STotalM2'] > 10) & (df_train['STotalM2'] < 10**3)]\n",
    "val_procesado = df_train[(df_train['STotalM2'] > 10) & (df_train['STotalM2'] < 10**3)]\n",
    "\n",
    "X_train_procesado = train_procesado.drop(columns=['precio_pesos_constantes'])\n",
    "y_train_procesado = train_procesado['precio_pesos_constantes']\n",
    "X_val_procesado = val_procesado.drop(columns=['precio_pesos_constantes'])\n",
    "y_val_procesado =val_procesado['precio_pesos_constantes']\n",
    "\n",
    "\n",
    "num_cols = ['Dormitorios', 'Banos', 'Ambientes', 'Cocheras','Amoblado','Antiguedad','ITE_TIPO_PROD_encoded','Laundry','Calefaccion','Jacuzzi','Gimnasio','Cisterna','AireAC','SalonFiestas']\n",
    "imp_cols = ['STotalM2', 'SConstrM2', 'LONGITUDE', 'LATITUDE']\n",
    "X_train_procesado = X_train_procesado[num_cols + imp_cols]\n",
    "X_val_procesado = X_val_procesado[num_cols + imp_cols]\n",
    "# modelos = barrido_parametrico(cambio_X_train, X_val,y_train, y_val) \n",
    "xg_ = xg(X_train_procesado, y_train_procesado, X_val_procesado, y_val_procesado)\n",
    "\n",
    "# decision_tree = parameter_searching(X_train, y_train, X_val, y_val,xg_)"
   ]
  },
  {
   "cell_type": "code",
   "execution_count": 6,
   "metadata": {},
   "outputs": [
    {
     "name": "stdout",
     "output_type": "stream",
     "text": [
      "Fitting 3 folds for each of 27 candidates, totalling 81 fits\n",
      "Best parameters: {'learning_rate': 0.01, 'max_depth': 100, 'n_estimators': 200}\n",
      "Optimized Mean Squared Error: 90328222461.53581\n",
      "Optimized R2 score: 0.8188095091508213\n"
     ]
    }
   ],
   "source": [
    "\n",
    "decision_tree = parameter_searching(X_train_procesado, y_train_procesado, X_val_procesado, y_val_procesado,xg_)\n",
    "# prueba_xg = xg(X_train_prueba, y_train_prueba, X_val_prueba,y_val_prueba)"
   ]
  }
 ],
 "metadata": {
  "kernelspec": {
   "display_name": "Python 3",
   "language": "python",
   "name": "python3"
  },
  "language_info": {
   "codemirror_mode": {
    "name": "ipython",
    "version": 3
   },
   "file_extension": ".py",
   "mimetype": "text/x-python",
   "name": "python",
   "nbconvert_exporter": "python",
   "pygments_lexer": "ipython3",
   "version": "3.10.12"
  }
 },
 "nbformat": 4,
 "nbformat_minor": 2
}
