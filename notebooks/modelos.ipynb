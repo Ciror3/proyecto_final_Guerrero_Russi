{
 "cells": [
  {
   "cell_type": "code",
   "execution_count": 2,
   "metadata": {},
   "outputs": [],
   "source": [
    "import sys\n",
    "import os\n",
    "sys.path.append(os.path.abspath('../src'))\n",
    "sys.path.append(os.path.abspath('../Dataset'))\n",
    "sys.path.append(os.path.abspath('..'))\n",
    "\n",
    "import importlib\n",
    "import pandas as pd\n",
    "import numpy as np\n",
    "import matplotlib.pyplot as plt\n",
    "from sklearn.linear_model import LinearRegression\n",
    "from sklearn.metrics import mean_squared_error, r2_score\n",
    "import xgboost_\n",
    "importlib.reload(xgboost_)\n",
    "from xgboost_ import xg,parameter_searching, barrido_parametrico"
   ]
  },
  {
   "cell_type": "code",
   "execution_count": 3,
   "metadata": {},
   "outputs": [],
   "source": [
    "pruebas_train = pd.read_csv('../Dataset/Procesado/pruebas.csv')\n",
    "pruebas_val = pd.read_csv('../Dataset/Procesado/pruebas_val.csv')\n",
    "X_train_prueba = pruebas_train.drop(columns=['precio_pesos_constantes'])\n",
    "y_train_prueba = pruebas_train['precio_pesos_constantes']\n",
    "X_val_prueba = pruebas_val.drop(columns=['precio_pesos_constantes'])\n",
    "y_val_prueba =pruebas_val['precio_pesos_constantes']\n"
   ]
  },
  {
   "cell_type": "code",
   "execution_count": 4,
   "metadata": {},
   "outputs": [],
   "source": [
    "df_train = pd.read_csv('../Dataset/Procesado/train_procesado_numerico.csv')\n",
    "df_validation = pd.read_csv('../Dataset/Procesado/val_procesado_numerico.csv')\n",
    "X_train = df_train.drop(columns=['precio_pesos_constantes'])\n",
    "y_train = df_train['precio_pesos_constantes']\n",
    "X_val = df_validation.drop(columns=['precio_pesos_constantes'])\n",
    "y_val =df_validation['precio_pesos_constantes']"
   ]
  },
  {
   "cell_type": "code",
   "execution_count": 56,
   "metadata": {},
   "outputs": [
    {
     "name": "stdout",
     "output_type": "stream",
     "text": [
      "R2 Score: 0.004557660444225564\n",
      "RMSE: 650287.424069765\n"
     ]
    }
   ],
   "source": [
    "\n",
    "model = LinearRegression()\n",
    "model.fit(X_train,y_train)\n",
    "\n",
    "y_pred = model.predict(X_val)\n",
    "\n",
    "# Métricas\n",
    "print(\"R2 Score:\", r2_score(y_val, y_pred))\n",
    "print(\"RMSE:\", mean_squared_error(y_val, y_pred, squared=False))\n"
   ]
  },
  {
   "cell_type": "code",
   "execution_count": null,
   "metadata": {},
   "outputs": [
    {
     "name": "stdout",
     "output_type": "stream",
     "text": [
      "Unexpected exception formatting exception. Falling back to standard exception\n"
     ]
    },
    {
     "name": "stderr",
     "output_type": "stream",
     "text": [
      "Traceback (most recent call last):\n",
      "  File \"/home/ciror/.local/lib/python3.10/site-packages/IPython/core/interactiveshell.py\", line 3577, in run_code\n",
      "    exec(code_obj, self.user_global_ns, self.user_ns)\n",
      "  File \"/tmp/ipykernel_6879/1665389297.py\", line 19, in <module>\n",
      "    xg_ = xg(X_train_procesado, y_train_procesado, X_val_procesado, y_val_procesado)\n",
      "  File \"/home/ciror/Desktop/proyecto_final/proyecto_final_Guerrero_Russi/src/xgboost_.py\", line 13, in xg\n",
      "    y_pred = model.predict(x_test)\n",
      "  File \"/home/ciror/.local/lib/python3.10/site-packages/xgboost/sklearn.py\", line 1186, in predict\n",
      "    predts = self.get_booster().inplace_predict(\n",
      "  File \"/home/ciror/.local/lib/python3.10/site-packages/xgboost/core.py\", line 2510, in inplace_predict\n",
      "    self._validate_features(fns)\n",
      "  File \"/home/ciror/.local/lib/python3.10/site-packages/xgboost/core.py\", line 3075, in _validate_features\n",
      "    raise ValueError(msg.format(self.feature_names, feature_names))\n",
      "ValueError: feature_names mismatch: ['STotalM2', 'SConstrM2', 'Dormitorios', 'Banos', 'Ambientes', 'Amoblado', 'Antiguedad', 'Cisterna', 'AccesoInternet', 'BusinessCenter', 'Gimnasio', 'Laundry', 'Calefaccion', 'SalonDeUsosMul', 'AireAC', 'Recepcion', 'Estacionamiento', 'Jacuzzi', 'AreaJuegosInfantiles', 'Chimenea', 'Ascensor', 'SalonFiestas', 'Seguridad', 'Pileta', 'Cocheras', 'PistaJogging', 'EstacionamientoVisitas', 'Lobby', 'LocalesComerciales', 'SistContraIncendios', 'AreaParrillas', 'CanchaTennis', 'AreaCine', 'LONGITUDE', 'LATITUDE', 'ITE_ADD_CITY_NAME_encoded', 'ITE_ADD_STATE_NAME_encoded', 'ITE_ADD_NEIGHBORHOOD_NAME_encoded', 'ITE_TIPO_PROD_encoded', 'TIPOPROPIEDAD_encoded'] ['Unnamed: 0', 'STotalM2', 'SConstrM2', 'Dormitorios', 'Banos', 'Ambientes', 'Amoblado', 'Antiguedad', 'Cisterna', 'AccesoInternet', 'BusinessCenter', 'Gimnasio', 'Laundry', 'Calefaccion', 'SalonDeUsosMul', 'AireAC', 'Recepcion', 'Estacionamiento', 'Jacuzzi', 'AreaJuegosInfantiles', 'Chimenea', 'Ascensor', 'SalonFiestas', 'Seguridad', 'Pileta', 'Cocheras', 'PistaJogging', 'EstacionamientoVisitas', 'Lobby', 'LocalesComerciales', 'SistContraIncendios', 'AreaParrillas', 'CanchaTennis', 'AreaCine', 'LONGITUDE', 'LATITUDE', 'ITE_ADD_CITY_NAME_encoded', 'ITE_ADD_STATE_NAME_encoded', 'ITE_ADD_NEIGHBORHOOD_NAME_encoded', 'ITE_TIPO_PROD_encoded', 'TIPOPROPIEDAD_encoded']\n",
      "training data did not have the following fields: Unnamed: 0\n",
      "\n",
      "During handling of the above exception, another exception occurred:\n",
      "\n",
      "Traceback (most recent call last):\n",
      "  File \"/home/ciror/.local/lib/python3.10/site-packages/IPython/core/interactiveshell.py\", line 2168, in showtraceback\n",
      "    stb = self.InteractiveTB.structured_traceback(\n",
      "  File \"/home/ciror/.local/lib/python3.10/site-packages/IPython/core/ultratb.py\", line 1454, in structured_traceback\n",
      "    return FormattedTB.structured_traceback(\n",
      "  File \"/home/ciror/.local/lib/python3.10/site-packages/IPython/core/ultratb.py\", line 1345, in structured_traceback\n",
      "    return VerboseTB.structured_traceback(\n",
      "  File \"/home/ciror/.local/lib/python3.10/site-packages/IPython/core/ultratb.py\", line 1192, in structured_traceback\n",
      "    formatted_exception = self.format_exception_as_a_whole(etype, evalue, etb, number_of_lines_of_context,\n",
      "  File \"/home/ciror/.local/lib/python3.10/site-packages/IPython/core/ultratb.py\", line 1107, in format_exception_as_a_whole\n",
      "    frames.append(self.format_record(record))\n",
      "  File \"/home/ciror/.local/lib/python3.10/site-packages/IPython/core/ultratb.py\", line 989, in format_record\n",
      "    frame_info.lines, Colors, self.has_colors, lvals\n",
      "  File \"/home/ciror/.local/lib/python3.10/site-packages/IPython/core/ultratb.py\", line 801, in lines\n",
      "    return self._sd.lines\n",
      "  File \"/home/ciror/.local/lib/python3.10/site-packages/stack_data/utils.py\", line 145, in cached_property_wrapper\n",
      "    value = obj.__dict__[self.func.__name__] = self.func(obj)\n",
      "  File \"/home/ciror/.local/lib/python3.10/site-packages/stack_data/core.py\", line 734, in lines\n",
      "    pieces = self.included_pieces\n",
      "  File \"/home/ciror/.local/lib/python3.10/site-packages/stack_data/utils.py\", line 145, in cached_property_wrapper\n",
      "    value = obj.__dict__[self.func.__name__] = self.func(obj)\n",
      "  File \"/home/ciror/.local/lib/python3.10/site-packages/stack_data/core.py\", line 677, in included_pieces\n",
      "    scope_pieces = self.scope_pieces\n",
      "  File \"/home/ciror/.local/lib/python3.10/site-packages/stack_data/utils.py\", line 145, in cached_property_wrapper\n",
      "    value = obj.__dict__[self.func.__name__] = self.func(obj)\n",
      "  File \"/home/ciror/.local/lib/python3.10/site-packages/stack_data/core.py\", line 614, in scope_pieces\n",
      "    scope_start, scope_end = self.source.line_range(self.scope)\n",
      "  File \"/home/ciror/.local/lib/python3.10/site-packages/stack_data/core.py\", line 178, in line_range\n",
      "    return line_range(self.asttext(), node)\n",
      "  File \"/home/ciror/.local/lib/python3.10/site-packages/executing/executing.py\", line 333, in asttext\n",
      "    self._asttext = ASTText(self.text, tree=self.tree, filename=self.filename)\n",
      "  File \"/home/ciror/.local/lib/python3.10/site-packages/asttokens/asttokens.py\", line 305, in __init__\n",
      "    super(ASTText, self).__init__(source_text, filename)\n",
      "  File \"/home/ciror/.local/lib/python3.10/site-packages/asttokens/asttokens.py\", line 47, in __init__\n",
      "    source_text = six.ensure_text(source_text)\n",
      "AttributeError: module 'six' has no attribute 'ensure_text'\n"
     ]
    }
   ],
   "source": [
    "# modelos = barrido_parametrico(X_train, X_val,y_train, y_val)\n",
    "# X_train = X_train.drop(columns=['ITE_ADD_STATE_NAME_encoded', 'ITE_ADD_NEIGHBORHOOD_NAME_encoded'])\n",
    "# X_val = X_val.drop(columns=['ITE_ADD_STATE_NAME_encoded', 'ITE_ADD_NEIGHBORHOOD_NAME_encoded'])\n",
    "# print(X_train.columns())\n",
    "# muestras_filtradas = df_train[df_train['STotalM2'] > 400]\n",
    "train_procesado = df_train[(df_train['STotalM2'] > 10) & (df_train['STotalM2'] < 10**3)]\n",
    "val_procesado = df_train[(df_train['STotalM2'] > 10) & (df_train['STotalM2'] < 10**3)]\n",
    "\n",
    "X_train_procesado = train_procesado.drop(columns=['precio_pesos_constantes'])\n",
    "y_train_procesado = train_procesado['precio_pesos_constantes']\n",
    "X_val_procesado = pruebas_val.drop(columns=['precio_pesos_constantes'])\n",
    "y_val_procesado =pruebas_val['precio_pesos_constantes']\n",
    "\n",
    "num_cols = ['Dormitorios', 'Banos', 'Ambientes', 'Cocheras','Amoblado','Antiguedad','ITE_TIPO_PROD_encoded','Laundry','Calefaccion','Jacuzzi','Gimnasio','Cisterna','AireAC','SalonFiestas']\n",
    "imp_cols = ['STotalM2', 'SConstrM2', 'LONGITUDE', 'LATITUDE']\n",
    "X_train_procesado = X_train_procesado[num_cols + imp_cols]\n",
    "X_val_procesado = X_val_procesado[num_cols + imp_cols]\n",
    "# modelos = barrido_parametrico(cambio_X_train, X_val,y_train, y_val) \n",
    "xg_ = xg(X_train_procesado, y_train_procesado, X_val_procesado, y_val_procesado)\n",
    "\n",
    "# decision_tree = parameter_searching(X_train, y_train, X_val, y_val,xg_)"
   ]
  },
  {
   "cell_type": "code",
   "execution_count": 58,
   "metadata": {},
   "outputs": [
    {
     "name": "stdout",
     "output_type": "stream",
     "text": [
      "Unexpected exception formatting exception. Falling back to standard exception\n"
     ]
    },
    {
     "name": "stderr",
     "output_type": "stream",
     "text": [
      "Traceback (most recent call last):\n",
      "  File \"/home/ciror/.local/lib/python3.10/site-packages/IPython/core/interactiveshell.py\", line 3577, in run_code\n",
      "    exec(code_obj, self.user_global_ns, self.user_ns)\n",
      "  File \"/tmp/ipykernel_3680/1163166710.py\", line 1, in <module>\n",
      "    prueba_xg = xg(X_train_prueba, y_train_prueba, X_val_prueba,y_val_prueba)\n",
      "  File \"/home/ciror/Desktop/proyecto_final/proyecto_final_Guerrero_Russi/src/xgboost_.py\", line 12, in xg\n",
      "    model.fit(x_train,y_train)\n",
      "  File \"/home/ciror/.local/lib/python3.10/site-packages/xgboost/core.py\", line 726, in inner_f\n",
      "    return func(**kwargs)\n",
      "  File \"/home/ciror/.local/lib/python3.10/site-packages/xgboost/sklearn.py\", line 1108, in fit\n",
      "    self._Booster = train(\n",
      "  File \"/home/ciror/.local/lib/python3.10/site-packages/xgboost/core.py\", line 726, in inner_f\n",
      "    return func(**kwargs)\n",
      "  File \"/home/ciror/.local/lib/python3.10/site-packages/xgboost/training.py\", line 181, in train\n",
      "    bst.update(dtrain, iteration=i, fobj=obj)\n",
      "  File \"/home/ciror/.local/lib/python3.10/site-packages/xgboost/core.py\", line 2101, in update\n",
      "    _LIB.XGBoosterUpdateOneIter(\n",
      "KeyboardInterrupt\n",
      "\n",
      "During handling of the above exception, another exception occurred:\n",
      "\n",
      "Traceback (most recent call last):\n",
      "  File \"/home/ciror/.local/lib/python3.10/site-packages/IPython/core/interactiveshell.py\", line 2168, in showtraceback\n",
      "    stb = self.InteractiveTB.structured_traceback(\n",
      "  File \"/home/ciror/.local/lib/python3.10/site-packages/IPython/core/ultratb.py\", line 1454, in structured_traceback\n",
      "    return FormattedTB.structured_traceback(\n",
      "  File \"/home/ciror/.local/lib/python3.10/site-packages/IPython/core/ultratb.py\", line 1345, in structured_traceback\n",
      "    return VerboseTB.structured_traceback(\n",
      "  File \"/home/ciror/.local/lib/python3.10/site-packages/IPython/core/ultratb.py\", line 1192, in structured_traceback\n",
      "    formatted_exception = self.format_exception_as_a_whole(etype, evalue, etb, number_of_lines_of_context,\n",
      "  File \"/home/ciror/.local/lib/python3.10/site-packages/IPython/core/ultratb.py\", line 1107, in format_exception_as_a_whole\n",
      "    frames.append(self.format_record(record))\n",
      "  File \"/home/ciror/.local/lib/python3.10/site-packages/IPython/core/ultratb.py\", line 989, in format_record\n",
      "    frame_info.lines, Colors, self.has_colors, lvals\n",
      "  File \"/home/ciror/.local/lib/python3.10/site-packages/IPython/core/ultratb.py\", line 801, in lines\n",
      "    return self._sd.lines\n",
      "  File \"/home/ciror/.local/lib/python3.10/site-packages/stack_data/utils.py\", line 145, in cached_property_wrapper\n",
      "    value = obj.__dict__[self.func.__name__] = self.func(obj)\n",
      "  File \"/home/ciror/.local/lib/python3.10/site-packages/stack_data/core.py\", line 734, in lines\n",
      "    pieces = self.included_pieces\n",
      "  File \"/home/ciror/.local/lib/python3.10/site-packages/stack_data/utils.py\", line 145, in cached_property_wrapper\n",
      "    value = obj.__dict__[self.func.__name__] = self.func(obj)\n",
      "  File \"/home/ciror/.local/lib/python3.10/site-packages/stack_data/core.py\", line 677, in included_pieces\n",
      "    scope_pieces = self.scope_pieces\n",
      "  File \"/home/ciror/.local/lib/python3.10/site-packages/stack_data/utils.py\", line 145, in cached_property_wrapper\n",
      "    value = obj.__dict__[self.func.__name__] = self.func(obj)\n",
      "  File \"/home/ciror/.local/lib/python3.10/site-packages/stack_data/core.py\", line 614, in scope_pieces\n",
      "    scope_start, scope_end = self.source.line_range(self.scope)\n",
      "  File \"/home/ciror/.local/lib/python3.10/site-packages/stack_data/core.py\", line 178, in line_range\n",
      "    return line_range(self.asttext(), node)\n",
      "  File \"/home/ciror/.local/lib/python3.10/site-packages/executing/executing.py\", line 333, in asttext\n",
      "    self._asttext = ASTText(self.text, tree=self.tree, filename=self.filename)\n",
      "  File \"/home/ciror/.local/lib/python3.10/site-packages/asttokens/asttokens.py\", line 305, in __init__\n",
      "    super(ASTText, self).__init__(source_text, filename)\n",
      "  File \"/home/ciror/.local/lib/python3.10/site-packages/asttokens/asttokens.py\", line 47, in __init__\n",
      "    source_text = six.ensure_text(source_text)\n",
      "AttributeError: module 'six' has no attribute 'ensure_text'\n"
     ]
    }
   ],
   "source": [
    "\n",
    "\n",
    "prueba_xg = xg(X_train_prueba, y_train_prueba, X_val_prueba,y_val_prueba)"
   ]
  }
 ],
 "metadata": {
  "kernelspec": {
   "display_name": "Python 3",
   "language": "python",
   "name": "python3"
  },
  "language_info": {
   "codemirror_mode": {
    "name": "ipython",
    "version": 3
   },
   "file_extension": ".py",
   "mimetype": "text/x-python",
   "name": "python",
   "nbconvert_exporter": "python",
   "pygments_lexer": "ipython3",
   "version": "3.10.12"
  }
 },
 "nbformat": 4,
 "nbformat_minor": 2
}
