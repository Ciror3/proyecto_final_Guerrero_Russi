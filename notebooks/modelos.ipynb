{
 "cells": [
  {
   "cell_type": "code",
<<<<<<< HEAD
   "execution_count": 25,
=======
   "execution_count": null,
>>>>>>> origin/main
   "metadata": {},
   "outputs": [],
   "source": [
    "import sys\n",
    "import os\n",
    "sys.path.append(os.path.abspath('../src'))\n",
    "sys.path.append(os.path.abspath('../Dataset'))\n",
    "sys.path.append(os.path.abspath('..'))\n",
    "\n",
    "import importlib\n",
    "import pandas as pd\n",
    "import numpy as np\n",
    "import matplotlib.pyplot as plt\n",
    "from sklearn.linear_model import LinearRegression\n",
    "from sklearn.metrics import mean_squared_error, r2_score\n",
    "import xgboost_,random_forest\n",
    "importlib.reload(xgboost_)\n",
<<<<<<< HEAD
    "importlib.reload(random_forest)\n",
    "from xgboost_ import xg,parameter_searching,barrido_parametrico,visualize_splits_lat_lon\n",
    "from random_forest import rf"
=======
    "from xgboost_ import xg,parameter_searching,barrido_parametrico\n",
    "from func_preprocesamiento import preprocesar"
>>>>>>> origin/main
   ]
  },
  {
   "cell_type": "code",
   "execution_count": 2,
   "metadata": {},
   "outputs": [],
   "source": [
    "# pruebas_train = pd.read_csv('../Dataset/Procesado/pruebas.csv')\n",
    "# pruebas_val = pd.read_csv('../Dataset/Procesado/pruebas_val.csv')\n",
    "\n",
    "# X_train_prueba = pruebas_train.drop(columns=['precio_pesos_constantes'])\n",
    "# y_train_prueba = pruebas_train['precio_pesos_constantes']\n",
    "\n",
    "# X_val_prueba = pruebas_val.drop(columns=['precio_pesos_constantes'])\n",
    "# y_val_prueba =pruebas_val['precio_pesos_constantes']\n"
   ]
  },
  {
   "cell_type": "code",
   "execution_count": 3,
   "metadata": {},
   "outputs": [],
   "source": [
    "df_train = pd.read_csv('../Dataset/Procesado/train_procesado_lim.csv')\n",
    "df_validation = pd.read_csv('../Dataset/Procesado/val_procesado_lim.csv')\n",
    "\n",
    "X_train = df_train.drop(columns=['precio_pesos_constantes'])\n",
    "y_train = df_train['precio_pesos_constantes']\n",
    "\n",
    "X_val = df_validation.drop(columns=['precio_pesos_constantes'])\n",
    "y_val =df_validation['precio_pesos_constantes']"
   ]
  },
  {
   "cell_type": "code",
   "execution_count": 4,
   "metadata": {},
   "outputs": [
    {
     "name": "stdout",
     "output_type": "stream",
     "text": [
<<<<<<< HEAD
      "Precio maximo:  5984094.01769173\n"
     ]
    }
   ],
   "source": [
    "print(\"Precio maximo: \", y_train.max())"
   ]
  },
  {
   "cell_type": "code",
   "execution_count": null,
   "metadata": {},
   "outputs": [
    {
     "name": "stdout",
     "output_type": "stream",
     "text": [
      "  RMSE: 122082.66\n",
      "  MAE: 15491.49\n",
      "  R2: 0.86\n",
      "  RMSE: 225422.56\n",
      "  MAE: 31040.63\n",
      "  R2: 0.54\n"
=======
      "R2 Score: 0.7848475779459745\n",
      "RMSE: 5919.305300066353\n"
     ]
    },
    {
     "name": "stderr",
     "output_type": "stream",
     "text": [
      "/usr/lib/python3/dist-packages/sklearn/metrics/_regression.py:483: FutureWarning: 'squared' is deprecated in version 1.4 and will be removed in 1.6. To calculate the root mean squared error, use the function'root_mean_squared_error'.\n",
      "  warnings.warn(\n"
>>>>>>> origin/main
     ]
    }
   ],
   "source": [
    "#Baseline\n",
    "rf_model = rf(X_train, X_val, y_train, y_val)\n",
    "\n"
   ]
  },
  {
   "cell_type": "code",
<<<<<<< HEAD
   "execution_count": 15,
=======
   "execution_count": 5,
>>>>>>> origin/main
   "metadata": {},
   "outputs": [
    {
     "name": "stdout",
     "output_type": "stream",
     "text": [
      "Model training completed.\n",
      "RMSE: 5611.228097690818\n",
      "R2 score: 0.8066604935492296\n"
     ]
    }
   ],
   "source": [
    "xg_,y_pred = xg(X_train, y_train, X_val, y_val)\n"
   ]
  },
  {
   "cell_type": "code",
<<<<<<< HEAD
   "execution_count": null,
   "metadata": {},
   "outputs": [
    {
     "name": "stdout",
     "output_type": "stream",
     "text": [
      "Unexpected exception formatting exception. Falling back to standard exception\n"
     ]
    },
    {
     "name": "stderr",
     "output_type": "stream",
     "text": [
      "Traceback (most recent call last):\n",
      "  File \"/home/ciror/.local/lib/python3.10/site-packages/IPython/core/formatters.py\", line 226, in catch_format_error\n",
      "    r = method(self, *args, **kwargs)\n",
      "  File \"/home/ciror/.local/lib/python3.10/site-packages/IPython/core/formatters.py\", line 343, in __call__\n",
      "    return printer(obj)\n",
      "  File \"/home/ciror/.local/lib/python3.10/site-packages/IPython/core/pylabtools.py\", line 152, in print_figure\n",
      "    fig.canvas.print_figure(bytes_io, **kw)\n",
      "  File \"/home/ciror/.local/lib/python3.10/site-packages/matplotlib/backend_bases.py\", line 2366, in print_figure\n",
      "    result = print_method(\n",
      "  File \"/home/ciror/.local/lib/python3.10/site-packages/matplotlib/backend_bases.py\", line 2232, in <lambda>\n",
      "    print_method = functools.wraps(meth)(lambda *args, **kwargs: meth(\n",
      "  File \"/home/ciror/.local/lib/python3.10/site-packages/matplotlib/backends/backend_agg.py\", line 509, in print_png\n",
      "    self._print_pil(filename_or_obj, \"png\", pil_kwargs, metadata)\n",
      "  File \"/home/ciror/.local/lib/python3.10/site-packages/matplotlib/backends/backend_agg.py\", line 457, in _print_pil\n",
      "    FigureCanvasAgg.draw(self)\n",
      "  File \"/home/ciror/.local/lib/python3.10/site-packages/matplotlib/backends/backend_agg.py\", line 394, in draw\n",
      "    self.renderer = self.get_renderer()\n",
      "  File \"/home/ciror/.local/lib/python3.10/site-packages/matplotlib/_api/deprecation.py\", line 384, in wrapper\n",
      "    return func(*inner_args, **inner_kwargs)\n",
      "  File \"/home/ciror/.local/lib/python3.10/site-packages/matplotlib/backends/backend_agg.py\", line 411, in get_renderer\n",
      "    self.renderer = RendererAgg(w, h, self.figure.dpi)\n",
      "  File \"/home/ciror/.local/lib/python3.10/site-packages/matplotlib/backends/backend_agg.py\", line 84, in __init__\n",
      "    self._renderer = _RendererAgg(int(width), int(height), dpi)\n",
      "ValueError: Image size of 951x3405940 pixels is too large. It must be less than 2^16 in each direction.\n",
      "\n",
      "During handling of the above exception, another exception occurred:\n",
      "\n",
      "Traceback (most recent call last):\n",
      "  File \"/home/ciror/.local/lib/python3.10/site-packages/IPython/core/interactiveshell.py\", line 2168, in showtraceback\n",
      "    stb = self.InteractiveTB.structured_traceback(\n",
      "  File \"/home/ciror/.local/lib/python3.10/site-packages/IPython/core/ultratb.py\", line 1454, in structured_traceback\n",
      "    return FormattedTB.structured_traceback(\n",
      "  File \"/home/ciror/.local/lib/python3.10/site-packages/IPython/core/ultratb.py\", line 1345, in structured_traceback\n",
      "    return VerboseTB.structured_traceback(\n",
      "  File \"/home/ciror/.local/lib/python3.10/site-packages/IPython/core/ultratb.py\", line 1192, in structured_traceback\n",
      "    formatted_exception = self.format_exception_as_a_whole(etype, evalue, etb, number_of_lines_of_context,\n",
      "  File \"/home/ciror/.local/lib/python3.10/site-packages/IPython/core/ultratb.py\", line 1107, in format_exception_as_a_whole\n",
      "    frames.append(self.format_record(record))\n",
      "  File \"/home/ciror/.local/lib/python3.10/site-packages/IPython/core/ultratb.py\", line 989, in format_record\n",
      "    frame_info.lines, Colors, self.has_colors, lvals\n",
      "  File \"/home/ciror/.local/lib/python3.10/site-packages/IPython/core/ultratb.py\", line 801, in lines\n",
      "    return self._sd.lines\n",
      "  File \"/home/ciror/.local/lib/python3.10/site-packages/stack_data/utils.py\", line 145, in cached_property_wrapper\n",
      "    value = obj.__dict__[self.func.__name__] = self.func(obj)\n",
      "  File \"/home/ciror/.local/lib/python3.10/site-packages/stack_data/core.py\", line 734, in lines\n",
      "    pieces = self.included_pieces\n",
      "  File \"/home/ciror/.local/lib/python3.10/site-packages/stack_data/utils.py\", line 145, in cached_property_wrapper\n",
      "    value = obj.__dict__[self.func.__name__] = self.func(obj)\n",
      "  File \"/home/ciror/.local/lib/python3.10/site-packages/stack_data/core.py\", line 677, in included_pieces\n",
      "    scope_pieces = self.scope_pieces\n",
      "  File \"/home/ciror/.local/lib/python3.10/site-packages/stack_data/utils.py\", line 145, in cached_property_wrapper\n",
      "    value = obj.__dict__[self.func.__name__] = self.func(obj)\n",
      "  File \"/home/ciror/.local/lib/python3.10/site-packages/stack_data/core.py\", line 614, in scope_pieces\n",
      "    scope_start, scope_end = self.source.line_range(self.scope)\n",
      "  File \"/home/ciror/.local/lib/python3.10/site-packages/stack_data/core.py\", line 178, in line_range\n",
      "    return line_range(self.asttext(), node)\n",
      "  File \"/home/ciror/.local/lib/python3.10/site-packages/executing/executing.py\", line 333, in asttext\n",
      "    self._asttext = ASTText(self.text, tree=self.tree, filename=self.filename)\n",
      "  File \"/home/ciror/.local/lib/python3.10/site-packages/asttokens/asttokens.py\", line 305, in __init__\n",
      "    super(ASTText, self).__init__(source_text, filename)\n",
      "  File \"/home/ciror/.local/lib/python3.10/site-packages/asttokens/asttokens.py\", line 47, in __init__\n",
      "    source_text = six.ensure_text(source_text)\n",
      "AttributeError: module 'six' has no attribute 'ensure_text'\n"
     ]
    },
    {
     "data": {
      "text/plain": [
       "<Figure size 1200x800 with 2 Axes>"
      ]
     },
     "metadata": {},
     "output_type": "display_data"
    }
   ],
   "source": [
    "visualize_splits_lat_lon(xg_,X_val,y_val)"
   ]
  },
  {
   "cell_type": "code",
   "execution_count": null,
=======
   "execution_count": 6,
>>>>>>> origin/main
   "metadata": {},
   "outputs": [
    {
     "data": {
      "image/png": "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",
      "text/plain": [
       "<Figure size 640x480 with 1 Axes>"
      ]
     },
     "metadata": {},
     "output_type": "display_data"
    }
   ],
   "source": [
    "plt.scatter(y_val, y_pred)\n",
    "plt.plot([y_val.min(), y_val.max()], [y_val.min(), y_val.max()], color='red', linestyle='--')\n",
    "plt.xlabel('Actual Values')\n",
    "plt.ylabel('Predicted Values')\n",
    "plt.title('Actual vs Predicted Values')\n",
    "plt.show()"
   ]
  },
  {
   "cell_type": "code",
<<<<<<< HEAD
   "execution_count": null,
=======
   "execution_count": 7,
>>>>>>> origin/main
   "metadata": {},
   "outputs": [
    {
     "name": "stdout",
     "output_type": "stream",
     "text": [
      "Columna a predecir: Laundry\n",
      "Columna a predecir: Calefaccion\n",
      "Columna a predecir: Jacuzzi\n",
      "Columna a predecir: Gimnasio\n",
      "Columna a predecir: Cisterna\n",
      "Columna a predecir: AireAC\n",
      "Columna a predecir: SalonFiestas\n",
      "Columna a predecir: Amoblado\n",
      "RMSE: 6040.273528201314\n",
      "R2 score: 0.8100147196014159\n"
     ]
    }
   ],
   "source": [
<<<<<<< HEAD
    "print(\"Max y min de STotalM2\", X_train['STotalM2'].max(), X_train['STotalM2'].min())\n",
    "print(\"Columnas de X_train\", X_train.columns)\n",
    "print(\"Columnas de X_val\", X_val.columns)"
   ]
  },
  {
   "cell_type": "code",
   "execution_count": null,
   "metadata": {},
   "outputs": [
    {
     "name": "stdout",
     "output_type": "stream",
     "text": [
      "19\n",
      "18\n",
      "Max y min de STotalM2 495.0 12.0\n",
      "18\n",
      "Mean Squared Error: 132725469460.01917\n",
      "R2 score: 0.6806823822294652\n"
     ]
    }
   ],
   "source": [
    "# modelos = barrido_parametrico(X_train, X_val,y_train, y_val)\n",
    "# X_train = X_train.drop(columns=['ITE_ADD_STATE_NAME_encoded', 'ITE_ADD_NEIGHBORHOOD_NAME_encoded'])\n",
    "# X_val = X_val.drop(columns=['ITE_ADD_STATE_NAME_encoded', 'ITE_ADD_NEIGHBORHOOD_NAME_encoded'])\n",
    "# print(X_train.columns())\n",
    "# muestras_filtradas = df_train[df_train['STotalM2'] > 400]\n",
    "\n",
    "train_procesado = df_train[(df_train['STotalM2'] > 10) & (df_train['STotalM2'] < 10**3)]\n",
    "val_procesado = df_train[(df_train['STotalM2'] > 10) & (df_train['STotalM2'] < 10**3)]\n",
    "print(len(train_procesado.columns))\n",
    "print(len(X_train.columns))\n",
    "print(\"Max y min de STotalM2\", train_procesado['STotalM2'].max(), val_procesado['STotalM2'].min())\n",
    "\n",
    "X_train_procesado = train_procesado.drop(columns=['precio_pesos_constantes'])\n",
    "y_train_procesado = train_procesado['precio_pesos_constantes']\n",
    "X_val_procesado = val_procesado.drop(columns=['precio_pesos_constantes'])\n",
    "y_val_procesado =val_procesado['precio_pesos_constantes']\n",
    "\n",
    "\n",
    "num_cols = ['Dormitorios', 'Banos', 'Ambientes', 'Cocheras','Amoblado','Antiguedad','ITE_TIPO_PROD_encoded','Laundry','Calefaccion','Jacuzzi','Gimnasio','Cisterna','AireAC','SalonFiestas']\n",
    "imp_cols = ['STotalM2', 'SConstrM2', 'LONGITUDE', 'LATITUDE']\n",
    "X_train_procesado = X_train_procesado[num_cols + imp_cols]\n",
    "X_val_procesado = X_val_procesado[num_cols + imp_cols]\n",
    "print(len(X_train_procesado.columns))\n",
    "# modelos = barrido_parametrico(cambio_X_train, X_val,y_train, y_val) \n",
    "xg_ = xg(X_train_procesado, y_train_procesado, X_val_procesado, y_val_procesado)\n",
    "\n",
    "# decision_tree = parameter_searching(X_train, y_train, X_val, y_val,xg_)"
   ]
  },
  {
   "cell_type": "code",
   "execution_count": null,
   "metadata": {},
   "outputs": [
    {
     "name": "stdout",
     "output_type": "stream",
     "text": [
      "Mean Squared Error: 241284075884.15958\n",
      "R2 score: 0.48056197821769686\n"
     ]
    }
   ],
   "source": [
    "binarias = ['Laundry', 'Calefaccion', 'Jacuzzi', 'Gimnasio', 'Cisterna', 'AireAC', 'SalonFiestas', 'Amoblado','ITE_TIPO_PROD_encoded']\n",
    "categoricas = ['ITE_TIPO_PROD']\n",
    "\n",
    "x_train_change = X_train.drop(columns=binarias)\n",
    "x_val_change = X_val.drop(columns=binarias)\n",
    "model, pred = xg(x_train_change,y_train,x_val_change,y_val)"
   ]
  },
  {
   "cell_type": "code",
   "execution_count": null,
   "metadata": {},
   "outputs": [
    {
     "name": "stdout",
     "output_type": "stream",
     "text": [
      "<bound method NDFrame.head of         STotalM2  SConstrM2  Dormitorios  Banos  Ambientes  Antiguedad  \\\n",
      "0           57.0       53.0            1      1          2          25   \n",
      "1          145.0      145.0            3      2          5          35   \n",
      "2           38.0       38.0            1      1          2          30   \n",
      "3           32.0       32.0            1      1          2          50   \n",
      "4           45.0       45.0            1      1          2          40   \n",
      "...          ...        ...          ...    ...        ...         ...   \n",
      "166858     235.0      235.0            3      3          7          70   \n",
      "166859      37.0       35.0            1      1          2           2   \n",
      "166860      35.0       35.0            1      1          2          25   \n",
      "166861      92.0       80.0            2      2          3          40   \n",
      "166862      64.0       64.0            2      1          3           0   \n",
      "\n",
      "        Cocheras  LONGITUDE   LATITUDE  \n",
      "0              0 -58.406820 -34.592224  \n",
      "1              0 -58.378535 -34.596153  \n",
      "2              0 -58.490466 -34.513684  \n",
      "3              0 -58.450018 -34.568274  \n",
      "4              0 -58.396280 -34.613986  \n",
      "...          ...        ...        ...  \n",
      "166858         0 -58.376325 -34.594375  \n",
      "166859         0 -58.556084 -34.644512  \n",
      "166860         0 -58.476174 -34.567960  \n",
      "166861         1 -58.458516 -34.555549  \n",
      "166862         1 -58.499201 -34.636208  \n",
      "\n",
      "[166370 rows x 9 columns]>\n"
     ]
    }
   ],
   "source": [
    "print(x_train_change.head)"
=======
    "#Ahora probamos con test\n",
    "df_test = pd.read_csv('../Dataset/raw/test_lim.csv')\n",
    "df_test = preprocesar(df_test)\n",
    "X_test = df_test.drop(columns=['precio_pesos_constantes'])\n",
    "y_test = df_test['precio_pesos_constantes']\n",
    "\n",
    "xg_,y_pred = xg(X_train, y_train, X_test, y_test)"
>>>>>>> origin/main
   ]
  }
 ],
 "metadata": {
  "kernelspec": {
   "display_name": "Python 3",
   "language": "python",
   "name": "python3"
  },
  "language_info": {
   "codemirror_mode": {
    "name": "ipython",
    "version": 3
   },
   "file_extension": ".py",
   "mimetype": "text/x-python",
   "name": "python",
   "nbconvert_exporter": "python",
   "pygments_lexer": "ipython3",
   "version": "3.10.12"
  }
 },
 "nbformat": 4,
 "nbformat_minor": 2
}
