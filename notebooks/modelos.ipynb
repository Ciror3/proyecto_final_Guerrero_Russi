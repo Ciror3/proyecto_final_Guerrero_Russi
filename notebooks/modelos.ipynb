{
 "cells": [
  {
   "cell_type": "code",
   "execution_count": 1,
   "metadata": {},
   "outputs": [],
   "source": [
    "import sys\n",
    "import os\n",
    "sys.path.append(os.path.abspath('../src'))\n",
    "sys.path.append(os.path.abspath('../Dataset'))\n",
    "sys.path.append(os.path.abspath('..'))\n",
    "\n",
    "import importlib\n",
    "import pandas as pd\n",
    "import numpy as np\n",
    "import matplotlib.pyplot as plt\n",
    "from sklearn.linear_model import LinearRegression\n",
    "from sklearn.metrics import mean_squared_error, r2_score\n",
    "import xgboost_\n",
    "importlib.reload(xgboost_)\n",
    "from xgboost_ import xg,parameter_searching"
   ]
  },
  {
   "cell_type": "code",
   "execution_count": 7,
   "metadata": {},
   "outputs": [],
   "source": [
    "# pruebas_train = pd.read_csv('../Dataset/Procesado/pruebas.csv')\n",
    "# pruebas_val = pd.read_csv('../Dataset/Procesado/pruebas_val.csv')\n",
    "\n",
    "# X_train_prueba = pruebas_train.drop(columns=['precio_pesos_constantes'])\n",
    "# y_train_prueba = pruebas_train['precio_pesos_constantes']\n",
    "\n",
    "# X_val_prueba = pruebas_val.drop(columns=['precio_pesos_constantes'])\n",
    "# y_val_prueba =pruebas_val['precio_pesos_constantes']\n"
   ]
  },
  {
   "cell_type": "code",
   "execution_count": 2,
   "metadata": {},
   "outputs": [],
   "source": [
    "df_train = pd.read_csv('../Dataset/Procesado/train_procesado.csv')\n",
    "df_validation = pd.read_csv('../Dataset/Procesado/val_procesado.csv')\n",
    "\n",
    "X_train = df_train.drop(columns=['precio_pesos_constantes'])\n",
    "y_train = df_train['precio_pesos_constantes']\n",
    "\n",
    "X_val = df_validation.drop(columns=['precio_pesos_constantes'])\n",
    "y_val =df_validation['precio_pesos_constantes']"
   ]
  },
  {
   "cell_type": "code",
   "execution_count": 4,
   "metadata": {},
   "outputs": [
    {
     "name": "stdout",
     "output_type": "stream",
     "text": [
      "R2 Score: 0.008575724130319373\n",
      "RMSE: 629994.1876009955\n"
     ]
    },
    {
     "name": "stderr",
     "output_type": "stream",
     "text": [
      "/usr/lib/python3/dist-packages/sklearn/metrics/_regression.py:483: FutureWarning: 'squared' is deprecated in version 1.4 and will be removed in 1.6. To calculate the root mean squared error, use the function'root_mean_squared_error'.\n",
      "  warnings.warn(\n"
     ]
    }
   ],
   "source": [
    "\n",
    "model = LinearRegression()\n",
    "model.fit(X_train,y_train)\n",
    "\n",
    "y_pred = model.predict(X_val)\n",
    "\n",
    "print(\"R2 Score:\", r2_score(y_val, y_pred))\n",
    "print(\"RMSE:\", mean_squared_error(y_val, y_pred, squared=False))\n",
    "\n",
    "# # Métricas\n",
    "# print(\"R2 Score:\", r2_score(y_X_val_procesado = pruebas_val.drop(columns=['precio_pesos_constantes'])\n",
    "# y_val_procesado =pruebas_val['precio_pesos_constantes']val, y_pred))\n",
    "# print(\"RMSE:\", mean_squared_error(y_val, y_pred, squared=False))\n"
   ]
  },
  {
   "cell_type": "code",
   "execution_count": 7,
   "metadata": {},
   "outputs": [
    {
     "name": "stdout",
     "output_type": "stream",
     "text": [
      "Mean Squared Error: 193211786650.70737\n",
      "R2 score: 0.5173635920878452\n",
      "XGBRegressor(base_score=None, booster=None, callbacks=None,\n",
      "             colsample_bylevel=None, colsample_bynode=None,\n",
      "             colsample_bytree=None, device=None, early_stopping_rounds=None,\n",
      "             enable_categorical=False, eval_metric=None, feature_types=None,\n",
      "             gamma=None, grow_policy=None, importance_type=None,\n",
      "             interaction_constraints=None, learning_rate=0.1, max_bin=None,\n",
      "             max_cat_threshold=None, max_cat_to_onehot=None,\n",
      "             max_delta_step=None, max_depth=1000, max_leaves=None,\n",
      "             min_child_weight=None, missing=nan, monotone_constraints=None,\n",
      "             multi_strategy=None, n_estimators=100, n_jobs=None,\n",
      "             num_parallel_tree=None, random_state=None, ...)\n"
     ]
    }
   ],
   "source": [
    "xg_ = xg(X_train, y_train, X_val, y_val)"
   ]
  },
  {
   "cell_type": "code",
   "execution_count": 4,
   "metadata": {},
   "outputs": [
    {
     "name": "stdout",
     "output_type": "stream",
     "text": [
      "Max y min de STotalM2 999.0 12.0\n",
      "Columnas de X_train Index(['STotalM2', 'SConstrM2', 'Dormitorios', 'Banos', 'Ambientes',\n",
      "       'Amoblado', 'Antiguedad', 'Cisterna', 'Gimnasio', 'Laundry',\n",
      "       'Calefaccion', 'AireAC', 'Jacuzzi', 'SalonFiestas', 'Cocheras',\n",
      "       'LONGITUDE', 'LATITUDE', 'ITE_TIPO_PROD_encoded'],\n",
      "      dtype='object')\n",
      "Columnas de X_val Index(['STotalM2', 'SConstrM2', 'Dormitorios', 'Banos', 'Ambientes',\n",
      "       'Amoblado', 'Antiguedad', 'Cisterna', 'Gimnasio', 'Laundry',\n",
      "       'Calefaccion', 'AireAC', 'Jacuzzi', 'SalonFiestas', 'Cocheras',\n",
      "       'LONGITUDE', 'LATITUDE', 'ITE_TIPO_PROD_encoded'],\n",
      "      dtype='object')\n"
     ]
    }
   ],
   "source": [
    "print(\"Max y min de STotalM2\", X_train['STotalM2'].max(), X_train['STotalM2'].min())\n",
    "print(\"Columnas de X_train\", X_train.columns)\n",
    "print(\"Columnas de X_val\", X_val.columns)"
   ]
  },
  {
   "cell_type": "code",
   "execution_count": 5,
   "metadata": {},
   "outputs": [
    {
     "name": "stdout",
     "output_type": "stream",
     "text": [
      "Mean Squared Error: 68281085789.413376\n",
      "R2 score: 0.8575454819429178\n"
     ]
    }
   ],
   "source": [
    "# modelos = barrido_parametrico(X_train, X_val,y_train, y_val)\n",
    "# X_train = X_train.drop(columns=['ITE_ADD_STATE_NAME_encoded', 'ITE_ADD_NEIGHBORHOOD_NAME_encoded'])\n",
    "# X_val = X_val.drop(columns=['ITE_ADD_STATE_NAME_encoded', 'ITE_ADD_NEIGHBORHOOD_NAME_encoded'])\n",
    "# print(X_train.columns())\n",
    "# muestras_filtradas = df_train[df_train['STotalM2'] > 400]\n",
    "\n",
    "train_procesado = df_train[(df_train['STotalM2'] > 10) & (df_train['STotalM2'] < 10**3)]\n",
    "val_procesado = df_train[(df_train['STotalM2'] > 10) & (df_train['STotalM2'] < 10**3)]\n",
    "\n",
    "X_train_procesado = train_procesado.drop(columns=['precio_pesos_constantes'])\n",
    "y_train_procesado = train_procesado['precio_pesos_constantes']\n",
    "X_val_procesado = val_procesado.drop(columns=['precio_pesos_constantes'])\n",
    "y_val_procesado =val_procesado['precio_pesos_constantes']\n",
    "\n",
    "\n",
    "num_cols = ['Dormitorios', 'Banos', 'Ambientes', 'Cocheras','Amoblado','Antiguedad','ITE_TIPO_PROD_encoded','Laundry','Calefaccion','Jacuzzi','Gimnasio','Cisterna','AireAC','SalonFiestas']\n",
    "imp_cols = ['STotalM2', 'SConstrM2', 'LONGITUDE', 'LATITUDE']\n",
    "X_train_procesado = X_train_procesado[num_cols + imp_cols]\n",
    "X_val_procesado = X_val_procesado[num_cols + imp_cols]\n",
    "# modelos = barrido_parametrico(cambio_X_train, X_val,y_train, y_val) \n",
    "xg_ = xg(X_train_procesado, y_train_procesado, X_val_procesado, y_val_procesado)\n",
    "\n",
    "# decision_tree = parameter_searching(X_train, y_train, X_val, y_val,xg_)"
   ]
  },
  {
   "cell_type": "code",
   "execution_count": null,
   "metadata": {},
   "outputs": [
    {
     "name": "stdout",
     "output_type": "stream",
     "text": [
      "Fitting 3 folds for each of 27 candidates, totalling 81 fits\n",
      "Best parameters: {'learning_rate': 0.01, 'max_depth': 100, 'n_estimators': 200}\n",
      "Optimized Mean Squared Error: 90328222461.53581\n",
      "Optimized R2 score: 0.8188095091508213\n"
     ]
    }
   ],
   "source": [
    "test_df = pd.read_csv('../Dataset/raw/test.csv')\n"
   ]
  }
 ],
 "metadata": {
  "kernelspec": {
   "display_name": "Python 3",
   "language": "python",
   "name": "python3"
  },
  "language_info": {
   "codemirror_mode": {
    "name": "ipython",
    "version": 3
   },
   "file_extension": ".py",
   "mimetype": "text/x-python",
   "name": "python",
   "nbconvert_exporter": "python",
   "pygments_lexer": "ipython3",
   "version": "3.12.3"
  }
 },
 "nbformat": 4,
 "nbformat_minor": 2
}
