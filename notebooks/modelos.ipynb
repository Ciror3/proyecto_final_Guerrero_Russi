{
 "cells": [
  {
   "cell_type": "code",
   "execution_count": 24,
   "metadata": {},
   "outputs": [],
   "source": [
    "import sys\n",
    "import os\n",
    "sys.path.append(os.path.abspath('../src'))\n",
    "sys.path.append(os.path.abspath('../Dataset'))\n",
    "sys.path.append(os.path.abspath('..'))\n",
    "\n",
    "import importlib\n",
    "import pandas as pd\n",
    "import numpy as np\n",
    "import matplotlib.pyplot as plt\n",
    "from sklearn.linear_model import LinearRegression\n",
    "from sklearn.metrics import mean_squared_error, r2_score\n",
    "import xgboost_\n",
    "importlib.reload(xgboost_)\n",
    "from xgboost_ import xg,parameter_searching"
   ]
  },
  {
   "cell_type": "code",
   "execution_count": 5,
   "metadata": {},
   "outputs": [
    {
     "name": "stdout",
     "output_type": "stream",
     "text": [
      "R2 Score: 0.004557660444225564\n",
      "RMSE: 650287.424069765\n"
     ]
    }
   ],
   "source": [
    "df_train = pd.read_csv('../Dataset/Procesado/train_procesado_numerico.csv')\n",
    "df_validation = pd.read_csv('../Dataset/Procesado/val_procesado_numerico.csv')\n",
    "X_train = df_train.drop(columns=['precio_pesos_constantes'])\n",
    "y_train = df_train['precio_pesos_constantes']\n",
    "X_val = df_validation.drop(columns=['precio_pesos_constantes'])\n",
    "y_val =df_validation['precio_pesos_constantes']\n",
    "\n",
    "model = LinearRegression()\n",
    "model.fit(X_train,y_train)\n",
    "\n",
    "y_pred = model.predict(X_val)\n",
    "\n",
    "# Métricas\n",
    "print(\"R2 Score:\", r2_score(y_val, y_pred))\n",
    "print(\"RMSE:\", mean_squared_error(y_val, y_pred, squared=False))\n"
   ]
  },
  {
   "cell_type": "code",
   "execution_count": 25,
   "metadata": {},
   "outputs": [
    {
     "name": "stdout",
     "output_type": "stream",
     "text": [
      "Mean Squared Error: 253699617867.36395\n",
      "R2 score: 0.40279255743027453\n"
     ]
    }
   ],
   "source": [
    "xg_ = xg(X_train, y_train, X_val, y_val)\n",
    "# decision_tree = parameter_searching(X_train, y_train, X_val, y_val,xg_)"
   ]
  }
 ],
 "metadata": {
  "kernelspec": {
   "display_name": "Python 3",
   "language": "python",
   "name": "python3"
  },
  "language_info": {
   "codemirror_mode": {
    "name": "ipython",
    "version": 3
   },
   "file_extension": ".py",
   "mimetype": "text/x-python",
   "name": "python",
   "nbconvert_exporter": "python",
   "pygments_lexer": "ipython3",
   "version": "3.10.12"
  }
 },
 "nbformat": 4,
 "nbformat_minor": 2
}
