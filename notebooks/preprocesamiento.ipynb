{
 "cells": [
  {
   "cell_type": "code",
   "execution_count": 1,
   "metadata": {},
   "outputs": [],
   "source": [
    "import sys\n",
    "import os\n",
    "sys.path.append(os.path.abspath('../src'))\n",
    "sys.path.append(os.path.abspath('../Dataset'))\n",
    "sys.path.append(os.path.abspath('..'))\n",
    "\n",
    "import importlib\n",
    "import pandas as pd\n",
    "import numpy as np\n",
    "import matplotlib.pyplot as plt\n",
    "\n",
    "from sklearn.model_selection import train_test_split\n",
    "\n",
    "from func_preprocesamiento import preprocesar, preprocesar_binarios, procesar_antiguedad, preprocesar_categoricos"
   ]
  },
  {
   "cell_type": "code",
   "execution_count": 2,
   "metadata": {},
   "outputs": [
    {
     "name": "stderr",
     "output_type": "stream",
     "text": [
      "/tmp/ipykernel_12692/232783009.py:1: DtypeWarning: Columns (8) have mixed types. Specify dtype option on import or set low_memory=False.\n",
      "  dev_df = pd.read_csv('../Dataset/raw/dev.csv')\n"
     ]
    }
   ],
   "source": [
    "dev_df = pd.read_csv('../Dataset/raw/dev.csv')\n",
    "\n",
    "#llalala\n",
    "\n",
    "train_dataset, val_dataset = train_test_split(dev_df, train_size=0.2, random_state=42)\n",
    "X_train = train_dataset.drop(columns=['precio_pesos_constantes'])\n",
    "y_train = train_dataset['precio_pesos_constantes']"
   ]
  },
  {
   "cell_type": "code",
   "execution_count": 3,
   "metadata": {},
   "outputs": [
    {
     "name": "stdout",
     "output_type": "stream",
     "text": [
      "a\n",
      "Unexpected exception formatting exception. Falling back to standard exception\n"
     ]
    },
    {
     "name": "stderr",
     "output_type": "stream",
     "text": [
      "Traceback (most recent call last):\n",
      "  File \"/home/ciror/.local/lib/python3.10/site-packages/IPython/core/interactiveshell.py\", line 3577, in run_code\n",
      "    exec(code_obj, self.user_global_ns, self.user_ns)\n",
      "  File \"/tmp/ipykernel_12692/309040053.py\", line 1, in <module>\n",
      "    df = preprocesar(X_train)\n",
      "  File \"/home/ciror/Desktop/proyecto_final/proyecto_final_Guerrero_Russi/src/func_preprocesamiento.py\", line 22, in preprocesar\n",
      "    df = preprocesar_categoricos(df, cat_cols_prim, 'frecuency', ind_cols)\n",
      "  File \"/home/ciror/Desktop/proyecto_final/proyecto_final_Guerrero_Russi/src/func_preprocesamiento.py\", line 63, in preprocesar_categoricos\n",
      "    df = valor_faltante_random_forest(df, columna + '_encoded', 'REG')\n",
      "  File \"/home/ciror/Desktop/proyecto_final/proyecto_final_Guerrero_Russi/src/func_preprocesamiento.py\", line 138, in valor_faltante_random_forest\n",
      "    if columna in columnas_independientes:\n",
      "TypeError: argument of type 'NoneType' is not iterable\n",
      "\n",
      "During handling of the above exception, another exception occurred:\n",
      "\n",
      "Traceback (most recent call last):\n",
      "  File \"/home/ciror/.local/lib/python3.10/site-packages/IPython/core/interactiveshell.py\", line 2168, in showtraceback\n",
      "    stb = self.InteractiveTB.structured_traceback(\n",
      "  File \"/home/ciror/.local/lib/python3.10/site-packages/IPython/core/ultratb.py\", line 1454, in structured_traceback\n",
      "    return FormattedTB.structured_traceback(\n",
      "  File \"/home/ciror/.local/lib/python3.10/site-packages/IPython/core/ultratb.py\", line 1345, in structured_traceback\n",
      "    return VerboseTB.structured_traceback(\n",
      "  File \"/home/ciror/.local/lib/python3.10/site-packages/IPython/core/ultratb.py\", line 1192, in structured_traceback\n",
      "    formatted_exception = self.format_exception_as_a_whole(etype, evalue, etb, number_of_lines_of_context,\n",
      "  File \"/home/ciror/.local/lib/python3.10/site-packages/IPython/core/ultratb.py\", line 1107, in format_exception_as_a_whole\n",
      "    frames.append(self.format_record(record))\n",
      "  File \"/home/ciror/.local/lib/python3.10/site-packages/IPython/core/ultratb.py\", line 989, in format_record\n",
      "    frame_info.lines, Colors, self.has_colors, lvals\n",
      "  File \"/home/ciror/.local/lib/python3.10/site-packages/IPython/core/ultratb.py\", line 801, in lines\n",
      "    return self._sd.lines\n",
      "  File \"/home/ciror/.local/lib/python3.10/site-packages/stack_data/utils.py\", line 145, in cached_property_wrapper\n",
      "    value = obj.__dict__[self.func.__name__] = self.func(obj)\n",
      "  File \"/home/ciror/.local/lib/python3.10/site-packages/stack_data/core.py\", line 734, in lines\n",
      "    pieces = self.included_pieces\n",
      "  File \"/home/ciror/.local/lib/python3.10/site-packages/stack_data/utils.py\", line 145, in cached_property_wrapper\n",
      "    value = obj.__dict__[self.func.__name__] = self.func(obj)\n",
      "  File \"/home/ciror/.local/lib/python3.10/site-packages/stack_data/core.py\", line 677, in included_pieces\n",
      "    scope_pieces = self.scope_pieces\n",
      "  File \"/home/ciror/.local/lib/python3.10/site-packages/stack_data/utils.py\", line 145, in cached_property_wrapper\n",
      "    value = obj.__dict__[self.func.__name__] = self.func(obj)\n",
      "  File \"/home/ciror/.local/lib/python3.10/site-packages/stack_data/core.py\", line 614, in scope_pieces\n",
      "    scope_start, scope_end = self.source.line_range(self.scope)\n",
      "  File \"/home/ciror/.local/lib/python3.10/site-packages/stack_data/core.py\", line 178, in line_range\n",
      "    return line_range(self.asttext(), node)\n",
      "  File \"/home/ciror/.local/lib/python3.10/site-packages/executing/executing.py\", line 333, in asttext\n",
      "    self._asttext = ASTText(self.text, tree=self.tree, filename=self.filename)\n",
      "  File \"/home/ciror/.local/lib/python3.10/site-packages/asttokens/asttokens.py\", line 305, in __init__\n",
      "    super(ASTText, self).__init__(source_text, filename)\n",
      "  File \"/home/ciror/.local/lib/python3.10/site-packages/asttokens/asttokens.py\", line 47, in __init__\n",
      "    source_text = six.ensure_text(source_text)\n",
      "AttributeError: module 'six' has no attribute 'ensure_text'\n"
     ]
    }
   ],
   "source": [
    "df = preprocesar(X_train)\n",
    "direccion = '../Dataset/procesado/dev_procesado.csv'\n",
    "df.to_csv(direccion, index=False)"
   ]
  },
  {
   "cell_type": "code",
   "execution_count": null,
   "metadata": {},
   "outputs": [
    {
     "name": "stdout",
     "output_type": "stream",
     "text": [
      "         ITE_ADD_CITY_NAME  ITE_ADD_CITY_NAME_encoded\n",
      "73778      Capital Federal                          4\n",
      "83752           La Matanza                         15\n",
      "81714   Esteban Echeverría                          8\n",
      "171550     Capital Federal                          4\n",
      "189337          San Miguel                         28\n",
      "...                    ...                        ...\n",
      "119879     Capital Federal                          4\n",
      "103694     Capital Federal                          4\n",
      "131932          La Matanza                         15\n",
      "146867     Capital Federal                          4\n",
      "121958          La Matanza                         15\n",
      "\n",
      "[47383 rows x 2 columns]\n"
     ]
    }
   ],
   "source": [
    "\n",
    "columna = ['ITE_ADD_CITY_NAME', 'ITE_ADD_STATE_NAME', 'ITE_ADD_NEIGHBORHOOD_NAME']\n",
    "X_train = preprocesar_categoricos(X_train, columna)\n"
   ]
  },
  {
   "cell_type": "code",
   "execution_count": null,
   "metadata": {},
   "outputs": [
    {
     "name": "stdout",
     "output_type": "stream",
     "text": [
      "Antiguedad\n",
      "0       19570\n",
      "40       3033\n",
      "10       2428\n",
      "50       1892\n",
      "5        1682\n",
      "        ...  \n",
      "105         1\n",
      "2017        1\n",
      "2009        1\n",
      "2002        1\n",
      "98          1\n",
      "Name: count, Length: 153, dtype: int64\n"
     ]
    }
   ],
   "source": [
    "columna = 'Antiguedad'\n",
    "df_pr_antig = procesar_antiguedad(X_train)\n",
    "print(df_pr_antig[columna].value_counts())"
   ]
  },
  {
   "cell_type": "code",
   "execution_count": null,
   "metadata": {},
   "outputs": [
    {
     "name": "stdout",
     "output_type": "stream",
     "text": [
      "73778      No\n",
      "83752      No\n",
      "81714       0\n",
      "171550      0\n",
      "189337      0\n",
      "         ... \n",
      "119879     No\n",
      "103694     No\n",
      "131932    NaN\n",
      "146867      0\n",
      "121958      0\n",
      "Name: Amoblado, Length: 47383, dtype: object\n",
      "Amoblado\n",
      "No      19961\n",
      "0       12446\n",
      "0.0      5360\n",
      "Sí       2319\n",
      "1.0       776\n",
      "   0      610\n",
      "1         437\n",
      "Name: count, dtype: int64\n"
     ]
    }
   ],
   "source": [
    "columna = 'Amoblado'\n",
    "print(X_train[columna])\n",
    "print(X_train['Amoblado'].value_counts())"
   ]
  },
  {
   "cell_type": "code",
   "execution_count": null,
   "metadata": {},
   "outputs": [
    {
     "name": "stdout",
     "output_type": "stream",
     "text": [
      "Vector real: [0. 1. 0. ... 0. 0. 0.]\n",
      "Vector predicho: [0. 1. 0. ... 0. 0. 0.]\n",
      "RMSE: 0.27329975745967033\n"
     ]
    }
   ],
   "source": [
    "#O: 38377 + 5474 FALTANTES = 43851\n",
    "col_binarias_np = ['Amoblado']\n",
    "col_binarias_imp = ['Amoblado']\n",
    "binario_procesado = preprocesar_binarios(X_train, ['Amoblado'], 'RF')\n",
    "#print(binario_procesado['Amoblado'].value_counts())"
   ]
  }
 ],
 "metadata": {
  "kernelspec": {
   "display_name": "Python 3",
   "language": "python",
   "name": "python3"
  },
  "language_info": {
   "codemirror_mode": {
    "name": "ipython",
    "version": 3
   },
   "file_extension": ".py",
   "mimetype": "text/x-python",
   "name": "python",
   "nbconvert_exporter": "python",
   "pygments_lexer": "ipython3",
   "version": "3.10.12"
  }
 },
 "nbformat": 4,
 "nbformat_minor": 2
}
