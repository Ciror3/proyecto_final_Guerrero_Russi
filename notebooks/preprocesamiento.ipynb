{
 "cells": [
  {
   "cell_type": "code",
   "execution_count": 1,
   "metadata": {},
   "outputs": [],
   "source": [
    "import sys\n",
    "import os\n",
    "sys.path.append(os.path.abspath('../src'))\n",
    "sys.path.append(os.path.abspath('../Dataset'))\n",
    "sys.path.append(os.path.abspath('..'))\n",
    "\n",
    "import importlib\n",
    "import pandas as pd\n",
    "import numpy as np\n",
    "import matplotlib.pyplot as plt\n",
    "\n",
    "from sklearn.model_selection import train_test_split\n",
    "\n",
    "from func_preprocesamiento import preprocesar, preprocesar_binarios, procesar_antiguedad, preprocesar_categoricos"
   ]
  },
  {
   "cell_type": "code",
   "execution_count": 2,
   "metadata": {},
   "outputs": [
    {
     "name": "stderr",
     "output_type": "stream",
     "text": [
      "/tmp/ipykernel_16322/1641456509.py:1: DtypeWarning: Columns (8,33) have mixed types. Specify dtype option on import or set low_memory=False.\n",
      "  dev_df = pd.read_csv('../Dataset/raw/dev.csv')\n"
     ]
    }
   ],
   "source": [
    "dev_df = pd.read_csv('../Dataset/raw/dev.csv')\n",
    "bins = pd.qcut(dev_df['precio_pesos_constantes'], q=5, labels=False)  # 4 cuartiles\n",
    "train_dataset, val_dataset = train_test_split(dev_df, train_size=0.2, random_state=42, stratify=bins)\n",
    "\n",
    "X_train = train_dataset.drop(columns=['precio_pesos_constantes'])\n",
    "y_train = train_dataset['precio_pesos_constantes']"
   ]
  },
  {
   "cell_type": "code",
   "execution_count": 3,
   "metadata": {},
   "outputs": [
    {
     "name": "stdout",
     "output_type": "stream",
     "text": [
      "Columna a predecir: ITE_ADD_NEIGHBORHOOD_NAME_encoded\n",
      "Columna a predecir: SalonDeUsosMul\n",
      "Columna a predecir: AireAC\n",
      "Columna a predecir: Estacionamiento\n",
      "Columna a predecir: Seguridad\n",
      "Columna a predecir: AreaParrillas\n",
      "Columna a predecir: CanchaTennis\n",
      "Columna a predecir: AreaCine\n",
      "Columna a predecir: Gimnasio\n",
      "Columna a predecir: Amoblado\n",
      "Columna a predecir: STotalM2\n",
      "Columna a predecir: SConstrM2\n",
      "Columna a predecir: Antiguedad\n"
     ]
    }
   ],
   "source": [
    "df = preprocesar(train_dataset)\n",
    "direccion = '../Dataset/Procesado/train_procesado.csv'\n",
    "df.to_csv(direccion, index=False)"
   ]
  },
  {
   "cell_type": "markdown",
   "metadata": {},
   "source": [
    "## DATASET NUMERICO"
   ]
  },
  {
   "cell_type": "code",
   "execution_count": 4,
   "metadata": {},
   "outputs": [],
   "source": [
    "#ARMAMOS EL DATASET NUMERICO SACANDO LAS COLUMNAS CATEGORICAS\n",
    "columna = ['ITE_ADD_CITY_NAME', 'ITE_ADD_STATE_NAME', 'ITE_ADD_NEIGHBORHOOD_NAME', 'ITE_TIPO_PROD', 'TIPOPROPIEDAD'] #SACARLAS PORQUE SON CATEGORICAS\n",
    "direccion = '../Dataset/Procesado/train_procesado_numerico.csv'\n",
    "df = df.drop(columns=columna)\n",
    "df.to_csv(direccion, index=False)\n",
    "train_procesado = pd.read_csv(direccion)\n"
   ]
  },
  {
   "cell_type": "code",
   "execution_count": 5,
   "metadata": {},
   "outputs": [],
   "source": [
    "# import pandas as pd\n",
    "\n",
    "# # Cargar el DataFrame\n",
    "# dev_procesado = pd.read_csv('../Dataset/Procesado/dev_procesado_numerico.csv')\n",
    "\n",
    "# # Calcular la matriz de correlación\n",
    "# correlacion = dev_procesado.corr()\n",
    "\n",
    "# # Calcular la correlación de todas las columnas con la columna 'precio_pesos_constantes', excluyendo la misma columna\n",
    "# correlacion_precio = correlacion['precio_pesos_constantes'].drop(labels=['precio_pesos_constantes']).sort_values(ascending=False)\n",
    "\n",
    "# # Imprimir las columnas que más influyen en el precio\n",
    "# print(\"Columnas que más influyen en el precio:\")\n",
    "# print(correlacion_precio)"
   ]
  },
  {
   "cell_type": "code",
   "execution_count": null,
   "metadata": {},
   "outputs": [],
   "source": []
  }
 ],
 "metadata": {
  "kernelspec": {
   "display_name": "Python 3",
   "language": "python",
   "name": "python3"
  },
  "language_info": {
   "codemirror_mode": {
    "name": "ipython",
    "version": 3
   },
   "file_extension": ".py",
   "mimetype": "text/x-python",
   "name": "python",
   "nbconvert_exporter": "python",
   "pygments_lexer": "ipython3",
   "version": "3.12.3"
  }
 },
 "nbformat": 4,
 "nbformat_minor": 2
}
