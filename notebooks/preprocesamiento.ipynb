{
 "cells": [
  {
   "cell_type": "code",
   "execution_count": 1,
   "metadata": {},
   "outputs": [],
   "source": [
    "import sys\n",
    "import os\n",
    "sys.path.append(os.path.abspath('../src'))\n",
    "sys.path.append(os.path.abspath('../Dataset'))\n",
    "sys.path.append(os.path.abspath('..'))\n",
    "\n",
    "import importlib\n",
    "import pandas as pd\n",
    "import numpy as np\n",
    "import matplotlib.pyplot as plt\n",
    "\n",
    "from sklearn.model_selection import train_test_split\n",
    "\n",
    "from func_preprocesamiento import preprocesar, preprocesar_binarios, procesar_antiguedad, preprocesar_categoricos"
   ]
  },
  {
   "cell_type": "code",
   "execution_count": 2,
   "metadata": {},
   "outputs": [
    {
     "name": "stderr",
     "output_type": "stream",
     "text": [
      "/tmp/ipykernel_11199/3635508779.py:1: DtypeWarning: Columns (8) have mixed types. Specify dtype option on import or set low_memory=False.\n",
      "  dev_df = pd.read_csv('../Dataset/raw/dev.csv')\n"
     ]
    }
   ],
   "source": [
    "dev_df = pd.read_csv('../Dataset/raw/dev.csv')\n",
    "\n",
    "\n",
    "train_dataset, val_dataset = train_test_split(dev_df, train_size=0.2, random_state=42)\n",
    "X_train = train_dataset.drop(columns=['precio_pesos_constantes'])\n",
    "y_train = train_dataset['precio_pesos_constantes']"
   ]
  },
  {
   "cell_type": "code",
   "execution_count": null,
   "metadata": {},
   "outputs": [
    {
     "name": "stdout",
     "output_type": "stream",
     "text": [
      "Columna a predecir: ITE_ADD_NEIGHBORHOOD_NAME_encoded\n",
      "Vector real: [0.01021463 0.01131207 0.0255999  ... 0.00835743 0.01306376 0.01266277]\n",
      "Vector predicho: [0.01201781 0.03463099 0.03301163 ... 0.00996412 0.01306376 0.00806745]\n",
      "RMSE: 0.009319067977126427\n",
      "Columna a predecir: SalonDeUsosMul\n",
      "Columna a predecir: AireAC\n",
      "Columna a predecir: Estacionamiento\n",
      "Columna a predecir: Seguridad\n",
      "Columna a predecir: AreaParrillas\n",
      "Columna a predecir: CanchaTennis\n",
      "Columna a predecir: AreaCine\n",
      "Columna a predecir: Gimnasio\n",
      "Columna a predecir: Amoblado\n",
      "Columnas independientes: ['Dormitorios', 'Banos', 'Ambientes', 'Cocheras', 'STotalM2', 'SConstrM2', 'LONGITUDE', 'LATITUDE', 'ITE_ADD_CITY_NAME_encoded', 'ITE_ADD_STATE_NAME_encoded', 'ITE_ADD_NEIGHBORHOOD_NAME_encoded', 'SalonDeUsosMul', 'AireAC', 'Estacionamiento', 'Seguridad', 'AreaParrillas', 'CanchaTennis', 'AreaCine', 'Gimnasio', 'Amoblado', 'Cisterna', 'BusinessCenter', 'Laundry', 'Jacuzzi', 'Chimenea', 'Ascensor', 'EstacionamientoVisitas', 'Lobby', 'LocalesComerciales', 'SistContraIncendios', 'PistaJogging', 'SalonFiestas', 'AreaJuegosInfantiles', 'Recepcion', 'Calefaccion', 'AccesoInternet', 'Pileta']\n",
      "Columna a predecir: STotalM2\n",
      "Columna a predecir: SConstrM2\n",
      "Columna a predecir: Antiguedad\n",
      "Vector real: [15. 12. 40. ... 30.  0. 20.]\n",
      "Vector predicho: [ 8.49464286  0.048      36.83       ... 16.89        3.31\n",
      " 22.5225    ]\n",
      "RMSE: 80.85962272720793\n"
     ]
    }
   ],
   "source": [
    "df = preprocesar(train_dataset)\n",
    "direccion = '../Dataset/Procesado/dev_procesado.csv'\n",
    "df.to_csv(direccion, index=False)"
   ]
  },
  {
   "cell_type": "code",
   "execution_count": 4,
   "metadata": {},
   "outputs": [],
   "source": [
    "columna = ['ITE_ADD_CITY_NAME', 'ITE_ADD_STATE_NAME', 'ITE_ADD_NEIGHBORHOOD_NAME', 'ITE_TIPO_PROD', 'TIPOPROPIEDAD'] #SACARLAS PORQUE SON CATEGORICAS\n",
    "direccion = '../Dataset/Procesado/dev_procesado_numerico.csv'\n",
    "df = df.drop(columns=columna)\n",
    "df.to_csv(direccion, index=False)"
   ]
  },
  {
   "cell_type": "code",
   "execution_count": 9,
   "metadata": {},
   "outputs": [
    {
     "name": "stdout",
     "output_type": "stream",
     "text": [
      "Valores donde STotalM2 es menor que SConstrM2:\n",
      "       STotalM2  SConstrM2\n",
      "100         7.0       43.0\n",
      "248        16.0      165.0\n",
      "404        50.0       55.0\n",
      "442        65.0    70000.0\n",
      "664        50.0       55.0\n",
      "...         ...        ...\n",
      "46988      28.0       29.0\n",
      "47042      41.0       58.0\n",
      "47103      50.0       55.0\n",
      "47241      40.0       41.0\n",
      "47330      40.0       65.0\n",
      "\n",
      "[447 rows x 2 columns]\n"
     ]
    }
   ],
   "source": [
    "import pandas as pd\n",
    "\n",
    "# Cargar el DataFrame\n",
    "dev_procesado = pd.read_csv('../Dataset/Procesado/dev_procesado_numerico.csv')\n",
    "\n",
    "# Verificar si las columnas existen\n",
    "if 'STotalM2' in dev_procesado.columns and 'SConstrM2' in dev_procesado.columns:\n",
    "    # Filtrar los valores donde STotalM2 es menor que SCubiertaM2\n",
    "    filtro = dev_procesado['STotalM2'] < dev_procesado['SConstrM2']\n",
    "    valores_menores = dev_procesado[filtro]\n",
    "    \n",
    "    # Imprimir los valores\n",
    "    print(\"Valores donde STotalM2 es menor que SConstrM2:\")\n",
    "    print(valores_menores[['STotalM2', 'SConstrM2']])"
   ]
  }
 ],
 "metadata": {
  "kernelspec": {
   "display_name": "Python 3",
   "language": "python",
   "name": "python3"
  },
  "language_info": {
   "codemirror_mode": {
    "name": "ipython",
    "version": 3
   },
   "file_extension": ".py",
   "mimetype": "text/x-python",
   "name": "python",
   "nbconvert_exporter": "python",
   "pygments_lexer": "ipython3",
   "version": "3.12.3"
  }
 },
 "nbformat": 4,
 "nbformat_minor": 2
}
