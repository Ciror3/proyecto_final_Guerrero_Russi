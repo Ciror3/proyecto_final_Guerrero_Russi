{
 "cells": [
  {
   "cell_type": "code",
   "execution_count": 1,
   "metadata": {},
   "outputs": [],
   "source": [
    "import sys\n",
    "import os\n",
    "sys.path.append(os.path.abspath('../src'))\n",
    "sys.path.append(os.path.abspath('../Dataset'))\n",
    "sys.path.append(os.path.abspath('..'))\n",
    "\n",
    "import importlib\n",
    "import pandas as pd\n",
    "import numpy as np\n",
    "import matplotlib.pyplot as plt\n",
    "\n",
    "from sklearn.model_selection import train_test_split\n",
    "\n",
    "from func_preprocesamiento import preprocesar, preprocesar_binarios, procesar_antiguedad, preprocesar_categoricos"
   ]
  },
  {
   "cell_type": "code",
   "execution_count": 2,
   "metadata": {},
   "outputs": [
    {
     "name": "stderr",
     "output_type": "stream",
     "text": [
      "/tmp/ipykernel_12212/3635508779.py:1: DtypeWarning: Columns (8) have mixed types. Specify dtype option on import or set low_memory=False.\n",
      "  dev_df = pd.read_csv('../Dataset/raw/dev.csv')\n"
     ]
    }
   ],
   "source": [
    "dev_df = pd.read_csv('../Dataset/raw/dev.csv')\n",
    "\n",
    "\n",
    "train_dataset, val_dataset = train_test_split(dev_df, train_size=0.2, random_state=42)\n",
    "X_train = train_dataset.drop(columns=['precio_pesos_constantes'])\n",
    "y_train = train_dataset['precio_pesos_constantes']"
   ]
  },
  {
   "cell_type": "code",
   "execution_count": 3,
   "metadata": {},
   "outputs": [
    {
     "name": "stdout",
     "output_type": "stream",
     "text": [
      "Columna a predecir: ITE_ADD_NEIGHBORHOOD_NAME_encoded\n",
      "Columna a predecir: SalonDeUsosMul\n",
      "Columna a predecir: AireAC\n",
      "Columna a predecir: Estacionamiento\n",
      "Columna a predecir: Seguridad\n",
      "Columna a predecir: AreaParrillas\n",
      "Columna a predecir: CanchaTennis\n",
      "Columna a predecir: AreaCine\n",
      "Columna a predecir: Gimnasio\n",
      "Columna a predecir: Amoblado\n",
      "Columnas independientes: ['Dormitorios', 'Banos', 'Ambientes', 'Cocheras', 'STotalM2', 'SConstrM2', 'LONGITUDE', 'LATITUDE', 'ITE_ADD_CITY_NAME_encoded', 'ITE_ADD_STATE_NAME_encoded', 'ITE_ADD_NEIGHBORHOOD_NAME_encoded', 'SalonDeUsosMul', 'AireAC', 'Estacionamiento', 'Seguridad', 'AreaParrillas', 'CanchaTennis', 'AreaCine', 'Gimnasio', 'Amoblado', 'Cisterna', 'BusinessCenter', 'Laundry', 'Jacuzzi', 'Chimenea', 'Ascensor', 'EstacionamientoVisitas', 'Lobby', 'LocalesComerciales', 'SistContraIncendios', 'PistaJogging', 'SalonFiestas', 'AreaJuegosInfantiles', 'Recepcion', 'Calefaccion', 'AccesoInternet', 'Pileta']\n",
      "Columna a predecir: STotalM2\n",
      "Columna a predecir: SConstrM2\n",
      "Columna a predecir: Antiguedad\n"
     ]
    }
   ],
   "source": [
<<<<<<< HEAD
    "df = preprocesar(X_train)\n",
    "direccion = '../Dataset/procesado/dev_procesado.csv'\n",
=======
    "df = preprocesar(train_dataset)\n",
    "direccion = '../Dataset/Procesado/dev_procesado.csv'\n",
>>>>>>> 46fe924ee72d72df6652a47b18e4b9a54f8c7e4d
    "df.to_csv(direccion, index=False)"
   ]
  },
  {
   "cell_type": "code",
   "execution_count": 4,
   "metadata": {},
   "outputs": [],
   "source": [
    "columna = ['ITE_ADD_CITY_NAME', 'ITE_ADD_STATE_NAME', 'ITE_ADD_NEIGHBORHOOD_NAME', 'ITE_TIPO_PROD', 'TIPOPROPIEDAD'] #SACARLAS PORQUE SON CATEGORICAS\n",
    "direccion = '../Dataset/Procesado/dev_procesado_numerico.csv'\n",
    "df = df.drop(columns=columna)\n",
    "df.to_csv(direccion, index=False)"
   ]
  }
 ],
 "metadata": {
  "kernelspec": {
   "display_name": "Python 3",
   "language": "python",
   "name": "python3"
  },
  "language_info": {
   "codemirror_mode": {
    "name": "ipython",
    "version": 3
   },
   "file_extension": ".py",
   "mimetype": "text/x-python",
   "name": "python",
   "nbconvert_exporter": "python",
   "pygments_lexer": "ipython3",
   "version": "3.12.3"
  }
 },
 "nbformat": 4,
 "nbformat_minor": 2
}
